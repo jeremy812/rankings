{
  "nbformat": 4,
  "nbformat_minor": 0,
  "metadata": {
    "colab": {
      "name": "rankings.ipynb",
      "version": "0.3.2",
      "provenance": [],
      "collapsed_sections": [],
      "include_colab_link": true
    },
    "kernelspec": {
      "name": "python3",
      "display_name": "Python 3"
    }
  },
  "cells": [
    {
      "cell_type": "markdown",
      "metadata": {
        "id": "view-in-github",
        "colab_type": "text"
      },
      "source": [
        "<a href=\"https://colab.research.google.com/github/svtuck/rankings/blob/master/rankings.ipynb\" target=\"_parent\"><img src=\"https://colab.research.google.com/assets/colab-badge.svg\" alt=\"Open In Colab\"/></a>"
      ]
    },
    {
      "metadata": {
        "id": "o7QPK-BbPDWK",
        "colab_type": "text"
      },
      "cell_type": "markdown",
      "source": [
        "Let's start by going in the order that USA ultimate presents the algorithm here: https://play.usaultimate.org/teams/events/rankings/\n",
        "\n",
        "Up first is defining the score differential function."
      ]
    },
    {
      "metadata": {
        "id": "HE06Ww4-PQGK",
        "colab_type": "code",
        "colab": {}
      },
      "cell_type": "code",
      "source": [
        "import math\n",
        "from collections import namedtuple\n",
        "\n",
        "GameScore = namedtuple('GameScore', ['winning', 'losing'])\n",
        "sin_p_four_pi = math.sin(.4 * math.pi)\n",
        "def game_score_differential(score: GameScore) -> float:\n",
        "\tr = score.losing / (score.winning - 1)\n",
        "\tdifferential = 125 + 475 * math.sin(min(1, (1 - r) / .5) * .4 * math.pi) / sin_p_four_pi\n",
        "\treturn differential"
      ],
      "execution_count": 0,
      "outputs": []
    },
    {
      "metadata": {
        "id": "vRxOcvsNPSmy",
        "colab_type": "text"
      },
      "cell_type": "markdown",
      "source": [
        "Let's spot check it. I'm assuming the round is applied AFTER the score, for the purposes of presenting the example table."
      ]
    },
    {
      "metadata": {
        "id": "MWqcoGMwPVHc",
        "colab_type": "code",
        "colab": {}
      },
      "cell_type": "code",
      "source": [
        "assert round(game_score_differential(GameScore(15, 14))) == 125\n",
        "assert round(game_score_differential(GameScore(15, 5))) == 600\n",
        "assert round(game_score_differential(GameScore(15, 11))) == 381\n",
        "assert round(game_score_differential(GameScore(13, 9))) == 419\n",
        "assert round(game_score_differential(GameScore(13, 7))) == 558\n",
        "assert round(game_score_differential(GameScore(11, 9))) == 249\n",
        "assert round(game_score_differential(GameScore(11, 6))) == 547"
      ],
      "execution_count": 0,
      "outputs": []
    },
    {
      "metadata": {
        "id": "EyJ59FhGTiWn",
        "colab_type": "text"
      },
      "cell_type": "markdown",
      "source": [
        "Next we define the \"score weight\". "
      ]
    },
    {
      "metadata": {
        "id": "d1pYYSJoT2kH",
        "colab_type": "code",
        "colab": {}
      },
      "cell_type": "code",
      "source": [
        "def score_weight(score: GameScore) -> float:\n",
        "  return min(1, math.sqrt((score.winning + max(score.losing, (score.winning - 1) / 2)) / 19))\n",
        "\n",
        "assert round(score_weight(GameScore(13,0)), 2) == 1.0\n",
        "assert round(score_weight(GameScore(1,0)), 2) == .23\n",
        "assert round(score_weight(GameScore(11,3)), 2) == .92\n",
        "assert round(score_weight(GameScore(12,6)), 2) == .97\n"
      ],
      "execution_count": 0,
      "outputs": []
    },
    {
      "metadata": {
        "id": "Vyh1j0QoVbJB",
        "colab_type": "text"
      },
      "cell_type": "markdown",
      "source": [
        "This looks okay, but I see at least one difference between my function and the published table, I'm going to chalk this up to rounding somewhere..."
      ]
    },
    {
      "metadata": {
        "id": "yZzaq6e5Vh4C",
        "colab_type": "code",
        "outputId": "d9b3badd-8dc2-4345-fb63-67eb322a44b8",
        "colab": {
          "base_uri": "https://localhost:8080/",
          "height": 34
        }
      },
      "cell_type": "code",
      "source": [
        "print(round(score_weight(GameScore(8,2)), 2) - .76)"
      ],
      "execution_count": 4,
      "outputs": [
        {
          "output_type": "stream",
          "text": [
            "0.020000000000000018\n"
          ],
          "name": "stdout"
        }
      ]
    },
    {
      "metadata": {
        "id": "A7KqGyeAV-a5",
        "colab_type": "text"
      },
      "cell_type": "markdown",
      "source": [
        "Finally, we need to interpret this: \"The date weight depends upon how recently the game was played; games in the first week of the regular season will get a date weight of 0.5, while games in the last week of the season get a date weight of 1.0. Date weights of games in intermediate weeks are interpolated exponentially, so each week's date weight is a fixed multiple of the previous week's date weight.\"\n",
        "\n",
        "There is no published formula here, so I will interpret it as best I can. If we have played N weeks, then week 1 gets a weight of .5, week N gets a weight of 1.0 and week m < N gets a weight of Nth root of 2.\n",
        "\n",
        ".5 * factor ^ m = .5\n",
        "\n",
        ".5 * factor ^ N = 1\n",
        "\n",
        "factor^ N = 2 \n",
        "\n",
        "factor = 2 ^ (1/N)"
      ]
    },
    {
      "metadata": {
        "id": "_w8mPXuIXgal",
        "colab_type": "code",
        "colab": {}
      },
      "cell_type": "code",
      "source": [
        "#Defining this constant outside, we will set this appropriately later\n",
        "NUM_WEEKS = 10\n",
        "\n",
        "def get_weighting_function():\n",
        "  factor = pow(2, 1/(NUM_WEEKS - 1))\n",
        "  return lambda m: .5 * pow(factor, m - 1)\n",
        "\n",
        "\n",
        "assert round(get_weighting_function()(1), 2) == .5\n",
        "assert round(get_weighting_function()(10), 2) == 1\n",
        "NUM_WEEKS = 3\n",
        "assert round(get_weighting_function()(1), 2) == .5\n",
        "assert round(get_weighting_function()(3), 2) == 1\n",
        "\n",
        "#Weights are constant factors between weeks\n",
        "NUM_WEEKS = 10\n",
        "assert round(get_weighting_function()(5)/get_weighting_function()(4), 2) == round(get_weighting_function()(8)/get_weighting_function()(7), 2)"
      ],
      "execution_count": 0,
      "outputs": []
    },
    {
      "metadata": {
        "id": "zsEPv-mXiKA8",
        "colab_type": "text"
      },
      "cell_type": "markdown",
      "source": [
        "Collect all calculations that are not dependent on actual ratings."
      ]
    },
    {
      "metadata": {
        "id": "D59zNhayhYNT",
        "colab_type": "code",
        "colab": {}
      },
      "cell_type": "code",
      "source": [
        "WeightedScore = namedtuple(\"WeightedScore\", ['differential', 'score_weight', 'date_weight'])\n",
        "\n",
        "def weight_score(score: GameScore, week_number: int) -> WeightedScore:\n",
        "  differential = game_score_differential(score)\n",
        "  s = score_weight(score)\n",
        "  d = get_weighting_function()(week_number)\n",
        "  return WeightedScore(round(differential), round(s,3), round(d,3))"
      ],
      "execution_count": 0,
      "outputs": []
    },
    {
      "metadata": {
        "id": "Ed0H729eY4dI",
        "colab_type": "text"
      },
      "cell_type": "markdown",
      "source": [
        "Now we have our scoring functions defined, and we can move on to read in our data, downloaded from https://www.usaultimate.org/college/#Rankings\n",
        "\n"
      ]
    },
    {
      "metadata": {
        "colab_type": "code",
        "id": "_rdq9mxSbVw_",
        "colab": {
          "base_uri": "https://localhost:8080/",
          "height": 34
        },
        "outputId": "f9551531-0a20-4f24-96f2-d596c7cd2fe0"
      },
      "cell_type": "code",
      "source": [
        "import csv\n",
        "games = []\n",
        "\n",
        "# We will use \"ids\" and map back when we display something\n",
        "name_dictionary = {}\n",
        "with open('games.csv') as csvfile:\n",
        "  game_reader = csv.DictReader(csvfile)\n",
        "  for row in game_reader:\n",
        "    try:\n",
        "      team_1_score = int(row['Team 1 Score'])\n",
        "      team_2_score = int(row['Team 2 Score'])\n",
        "      games.append(row)\n",
        "      name_dictionary[row['Team 1 ID']] = row['School Name 1+Team Designation']\n",
        "      name_dictionary[row['Team 2 ID']] = row['School Name 2+Team Designation']\n",
        "    except ValueError as e:\n",
        "      pass\n",
        "\n",
        "print(len(games))"
      ],
      "execution_count": 7,
      "outputs": [
        {
          "output_type": "stream",
          "text": [
            "2582\n"
          ],
          "name": "stdout"
        }
      ]
    },
    {
      "metadata": {
        "id": "P6-lAo8bibIK",
        "colab_type": "text"
      },
      "cell_type": "markdown",
      "source": [
        "Now we can precalculate weights and differentials"
      ]
    },
    {
      "metadata": {
        "id": "ND92OHpSc0Lk",
        "colab_type": "code",
        "outputId": "a0a48637-01e4-4049-ef99-8f519ef37755",
        "colab": {
          "base_uri": "https://localhost:8080/",
          "height": 34
        }
      },
      "cell_type": "code",
      "source": [
        "from collections import defaultdict\n",
        "from datetime import datetime\n",
        "from dateutil.parser import parse\n",
        "\n",
        "start_date = datetime.max\n",
        "end_date = datetime.min\n",
        "for game in games:\n",
        "  d = parse(game['Game Date'])\n",
        "  if d < start_date:\n",
        "    start_date = d\n",
        "  if d > end_date:\n",
        "    end_date = d\n",
        "\n",
        "NUM_WEEKS = int((end_date - start_date).days / 7 + 1)\n",
        "\n",
        "\n",
        "def games_to_scores(games):\n",
        "  weighted_scores = defaultdict(list)\n",
        "  for game in games:\n",
        "    try: \n",
        "      #We are calling the first week, 'week 1'\n",
        "      week_number =  int((parse(game['Game Date']) - start_date).days / 7 + 1)\n",
        "      team_1_score = int(game['Team 1 Score'])\n",
        "      team_2_score = int(game['Team 2 Score'])\n",
        "\n",
        "      score = GameScore(max(team_1_score, team_2_score), min(team_1_score, team_2_score))\n",
        "      weights = weight_score(score, week_number)\n",
        "      loser_weights = WeightedScore(-1 * weights.differential , weights.score_weight, weights.date_weight)\n",
        "      if (team_1_score >= team_2_score):\n",
        "        winner = game['Team 1 ID']\n",
        "        loser = game['Team 2 ID']\n",
        "      else:\n",
        "        winner = game['Team 2 ID']\n",
        "        loser = game['Team 1 ID']\n",
        "\n",
        "      weighted_scores[winner].append((weights, loser))\n",
        "      weighted_scores[loser].append((loser_weights, winner))\n",
        "\n",
        "    except ValueError as e:\n",
        "      # Throw out L/W/F... no defined way of handling them\n",
        "      pass\n",
        "  return weighted_scores\n",
        "weighted_scores = games_to_scores(games)\n",
        "print(len(weighted_scores))  \n",
        "\n"
      ],
      "execution_count": 8,
      "outputs": [
        {
          "output_type": "stream",
          "text": [
            "422\n"
          ],
          "name": "stdout"
        }
      ]
    },
    {
      "metadata": {
        "id": "8XJDqa77ngGk",
        "colab_type": "text"
      },
      "cell_type": "markdown",
      "source": [
        "Let's spot check some, say: Oregon (19693), and Puget Sound (20039) and verify that all differentials sum to 0."
      ]
    },
    {
      "metadata": {
        "id": "IpeKwRN5lyg2",
        "colab_type": "code",
        "outputId": "e992f6df-d778-406d-fbe0-2f09483a5c0d",
        "colab": {
          "base_uri": "https://localhost:8080/",
          "height": 51
        }
      },
      "cell_type": "code",
      "source": [
        "\n",
        "print(sum(x[0].differential > 0 for x in weighted_scores[\"19693\"]), sum(x[0].differential < 0 for x in weighted_scores[\"19693\"]))\n",
        "print(sum(x[0].differential > 0 for x in weighted_scores[\"20039\"]), sum(x[0].differential < 0 for x in weighted_scores[\"20039\"]))"
      ],
      "execution_count": 9,
      "outputs": [
        {
          "output_type": "stream",
          "text": [
            "14 5\n",
            "12 4\n"
          ],
          "name": "stdout"
        }
      ]
    },
    {
      "metadata": {
        "id": "udeIp7luppEv",
        "colab_type": "code",
        "colab": {}
      },
      "cell_type": "code",
      "source": [
        "assert sum([x[0].differential for i in weighted_scores for x in weighted_scores[i] ]) == 0"
      ],
      "execution_count": 0,
      "outputs": []
    },
    {
      "metadata": {
        "id": "O_vaUR24ppRA",
        "colab_type": "text"
      },
      "cell_type": "markdown",
      "source": [
        "Now let's run the the rankings"
      ]
    },
    {
      "metadata": {
        "id": "C9zCUvraps26",
        "colab_type": "code",
        "outputId": "42970d03-22e6-4f79-9f0c-158e8e6b8d50",
        "colab": {
          "base_uri": "https://localhost:8080/",
          "height": 357
        }
      },
      "cell_type": "code",
      "source": [
        "def new_rating(team_id, ratings, scores):\n",
        "  scores = scores[team_id]\n",
        "  numerator = [(ratings[opponent_id] + weights.differential) * weights.score_weight * weights.date_weight for (weights, opponent_id) in scores]\n",
        "  denominator = [weights.score_weight * weights.date_weight for (weights, _) in scores]\n",
        "  return sum(numerator) / sum(denominator)\n",
        "\n",
        "def rank(scores):\n",
        "  \n",
        "  ratings = {i: 1000 for i in scores}\n",
        "  for r in range(100):\n",
        "    new_ratings = {i: new_rating(i, ratings, scores) for i in ratings.keys()}\n",
        "    ratings = new_ratings\n",
        "  return ratings\n",
        "\n",
        "def top_n(n, ratings):\n",
        "  return sorted([(ratings[i], name_dictionary[i]) for i in ratings], reverse=True)[:n]\n",
        "\n",
        "def print_top_n(n, ratings):\n",
        "  t = top_n(n, ratings)\n",
        "  for x in t:\n",
        "    print(x[1], round(x[0]))\n",
        "    \n",
        "\n",
        "\n",
        "\n",
        "print_top_n(20, rank(weighted_scores))\n",
        "\n",
        "  "
      ],
      "execution_count": 11,
      "outputs": [
        {
          "output_type": "stream",
          "text": [
            "Brown 2075\n",
            "North Carolina 2050\n",
            "Pittsburgh 2033\n",
            "Oregon 2025\n",
            "Brigham Young 1964\n",
            "Cal Poly-SLO 1964\n",
            "Carleton College-CUT 1962\n",
            "Colorado 1940\n",
            "Massachusetts 1904\n",
            "North Carolina State 1879\n",
            "Wisconsin 1869\n",
            "Washington 1865\n",
            "Southern California 1844\n",
            "Texas 1844\n",
            "Central Florida 1835\n",
            "Ohio State 1834\n",
            "Minnesota 1796\n",
            "Michigan 1743\n",
            "Tufts 1740\n",
            "Colorado State 1737\n"
          ],
          "name": "stdout"
        }
      ]
    },
    {
      "metadata": {
        "id": "YgH7MrUDBmwk",
        "colab_type": "text"
      },
      "cell_type": "markdown",
      "source": [
        "Looks about right. There are a couple of special edge cases I haven't included, but I think this is safe to call a correct implementation of the algorithm. Now let's try to evaluate it.\n",
        "\n",
        "First lets look at distribution of ratings.\n"
      ]
    },
    {
      "metadata": {
        "id": "KguUcaosBmNQ",
        "colab_type": "code",
        "outputId": "34b692ed-83bd-45f7-c042-18974e2a20b4",
        "colab": {
          "base_uri": "https://localhost:8080/",
          "height": 500
        }
      },
      "cell_type": "code",
      "source": [
        "import matplotlib.pyplot as plt\n",
        "ratings = rank(weighted_scores)\n",
        "plt.hist([ratings[i] for i in ratings], bins=20)"
      ],
      "execution_count": 12,
      "outputs": [
        {
          "output_type": "execute_result",
          "data": {
            "text/plain": [
              "(array([ 3.,  2.,  3., 11.,  7., 23., 28., 40., 33., 41., 43., 46., 32.,\n",
              "        35., 21., 20., 14.,  4.,  9.,  7.]),\n",
              " array([-478.78100003, -351.0868406 , -223.39268117,  -95.69852173,\n",
              "          31.9956377 ,  159.68979713,  287.38395656,  415.07811599,\n",
              "         542.77227543,  670.46643486,  798.16059429,  925.85475372,\n",
              "        1053.54891315, 1181.24307258, 1308.93723202, 1436.63139145,\n",
              "        1564.32555088, 1692.01971031, 1819.71386974, 1947.40802918,\n",
              "        2075.10218861]),\n",
              " <a list of 20 Patch objects>)"
            ]
          },
          "metadata": {
            "tags": []
          },
          "execution_count": 12
        },
        {
          "output_type": "display_data",
          "data": {
            "image/png": "[encoded data removed]",
            "text/plain": [
              "<Figure size 576x396 with 1 Axes>"
            ]
          },
          "metadata": {
            "tags": []
          }
        }
      ]
    },
    {
      "metadata": {
        "id": "wvsS7aKXDl-Q",
        "colab_type": "text"
      },
      "cell_type": "markdown",
      "source": [
        "That jives with what we would expect. Next lets explore how predictive the ratings are. To do this, we'll train a logistic regression model on the rating differentials and results."
      ]
    },
    {
      "metadata": {
        "id": "1P5Sv10lDvVH",
        "colab_type": "code",
        "outputId": "31530443-1f11-44dd-9aa2-8e4ce22b6666",
        "colab": {
          "base_uri": "https://localhost:8080/",
          "height": 917
        }
      },
      "cell_type": "code",
      "source": [
        "from sklearn import linear_model\n",
        "import numpy as np\n",
        "\n",
        "def viz_differentials(ratings, scores):\n",
        "  rating_differentials = []\n",
        "  results = []\n",
        "  for team in scores:\n",
        "    for game in scores[team]:\n",
        "      results.append( 1 if game[0].differential > 0 else 0)\n",
        "      rating_differentials.append(ratings[team] - ratings[game[1]])\n",
        "  X = np.reshape(rating_differentials, (-1, 1))\n",
        "  y = np.reshape(results, (-1, 1))\n",
        "  clf = linear_model.LogisticRegression(solver='lbfgs')\n",
        "  clf.fit(X, y)\n",
        "  plt.figure(1, figsize=(15, 15))\n",
        "  plt.clf()\n",
        "  plt.scatter(X.ravel(), y, color='black', zorder=20)\n",
        "  X_test = np.linspace(-1000, 1000, 300)\n",
        "  def model(x):\n",
        "    return 1 / (1 + np.exp(-x))\n",
        "\n",
        "  loss = model(X_test * clf.coef_ + clf.intercept_).ravel()\n",
        "  plt.plot(X_test, loss, color='red', linewidth=3)\n",
        "\n",
        "  binned = defaultdict(list)\n",
        "  for (differential, result) in zip(rating_differentials, results):\n",
        "    binned[50 * round(differential/100)].append(result)\n",
        "  x = []\n",
        "  y = []\n",
        "  area = []\n",
        "  for i in binned:\n",
        "    x.append(i)\n",
        "    y.append(sum(binned[i])/len(binned[i]))\n",
        "    area.append(len(binned[i]))\n",
        "  plt.scatter(x,y,s=area)\n",
        "\n",
        "\n",
        "def explore(scores):\n",
        "  ratings = rank(scores)\n",
        "  viz_differentials(ratings, scores)\n",
        "  \n",
        "      \n",
        "explore(weighted_scores)\n",
        "    \n",
        "  "
      ],
      "execution_count": 13,
      "outputs": [
        {
          "output_type": "stream",
          "text": [
            "/usr/local/lib/python3.6/dist-packages/sklearn/utils/validation.py:761: DataConversionWarning: A column-vector y was passed when a 1d array was expected. Please change the shape of y to (n_samples, ), for example using ravel().\n",
            "  y = column_or_1d(y, warn=True)\n"
          ],
          "name": "stderr"
        },
        {
          "output_type": "display_data",
          "data": {
            "image/png": "[encoded data removed]",
            "text/plain": [
              "<Figure size 1080x1080 with 1 Axes>"
            ]
          },
          "metadata": {
            "tags": []
          }
        }
      ]
    },
    {
      "metadata": {
        "id": "kDTQtyIRMMaF",
        "colab_type": "text"
      },
      "cell_type": "markdown",
      "source": [
        "So we have reasonably confident (>80%) predictions when ratings are more than about 100 points different. Finally, I wanted to run a cross validation on the algorithm. To do that, we with withhold 10% of games, rerank, and then use the resulting rankings to predict the winners of the held out games."
      ]
    },
    {
      "metadata": {
        "id": "OTc0ZGRYQZ5e",
        "colab_type": "code",
        "colab": {
          "base_uri": "https://localhost:8080/",
          "height": 71
        },
        "outputId": "764b0b1d-b24e-410f-f327-ec0a3a0f0dda"
      },
      "cell_type": "code",
      "source": [
        "import random\n",
        "\n",
        "def evaluate(games):\n",
        "  random.shuffle(games)\n",
        "  sample_size = int(len(games) / 10)\n",
        "  test = games[:sample_size]\n",
        "  train = games[sample_size:]\n",
        "  \n",
        "  scores = games_to_scores(train)\n",
        "  ranks = rank(scores)\n",
        "  avg = sum([ranks[i] for i in ranks])/len(ranks)\n",
        "\n",
        "  results = [(ranks.get(game['Team 1 ID'], avg) > ranks.get(game['Team 2 ID'], avg)) == (int(game['Team 1 Score']) > int(game['Team 2 Score'])) for game in test]\n",
        "  return sum(results)/len(results)\n",
        "\n",
        "\n",
        "results = [evaluate(games) for i in range(30)]\n",
        "print(results)\n",
        "print(sum(results)/len(results))"
      ],
      "execution_count": 14,
      "outputs": [
        {
          "output_type": "stream",
          "text": [
            "[0.7441860465116279, 0.7984496124031008, 0.7635658914728682, 0.7596899224806202, 0.7364341085271318, 0.7713178294573644, 0.748062015503876, 0.7441860465116279, 0.7558139534883721, 0.7713178294573644, 0.7209302325581395, 0.748062015503876, 0.810077519379845, 0.7751937984496124, 0.7984496124031008, 0.7868217054263565, 0.8255813953488372, 0.8217054263565892, 0.7906976744186046, 0.748062015503876, 0.7751937984496124, 0.7868217054263565, 0.7596899224806202, 0.7286821705426356, 0.7674418604651163, 0.7635658914728682, 0.751937984496124, 0.7751937984496124, 0.7906976744186046, 0.7635658914728682]\n",
            "0.7693798449612406\n"
          ],
          "name": "stdout"
        }
      ]
    },
    {
      "metadata": {
        "id": "tAY8Tv57XW5w",
        "colab_type": "text"
      },
      "cell_type": "markdown",
      "source": [
        "We are looking at roughly 25% of all games as upsets according to our algorithm. It'd be interesting to know if this is better or worse at the top. So we will repeat this but only evaluate against the top 10% of teams.\n",
        "\n"
      ]
    },
    {
      "metadata": {
        "id": "3bE8S2YdYqb-",
        "colab_type": "code",
        "colab": {
          "base_uri": "https://localhost:8080/",
          "height": 71
        },
        "outputId": "e2613429-2690-4ec4-c27e-72a5ceae7b3e"
      },
      "cell_type": "code",
      "source": [
        "def evaluate_top_k(games, k):\n",
        "  random.shuffle(games)\n",
        "  sample_size = int(len(games) / 10)\n",
        "  test = games[:sample_size]\n",
        "  train = games[sample_size:]\n",
        "  \n",
        "  scores = games_to_scores(train)\n",
        "  ranks = rank(scores)\n",
        "  \n",
        "  avg = sum([ranks[i] for i in ranks])/len(ranks)\n",
        "  threshold = sorted([ranks[i] for i in ranks])[int(len(ranks)* k)]\n",
        "  \n",
        "  top_games = list(filter(lambda game: (ranks.get(game['Team 1 ID'], avg) > threshold and ranks.get(game['Team 2 ID'], avg) > threshold), test))\n",
        "  results = [(ranks.get(game['Team 1 ID'], avg) > ranks.get(game['Team 2 ID'], avg)) == (int(game['Team 1 Score']) > int(game['Team 2 Score'])) for game in top_games]\n",
        "  return sum(results)/len(results)\n",
        "\n",
        "\n",
        "results = [evaluate_top_k(games, .9) for i in range(30)]\n",
        "print(results)\n",
        "print(sum(results)/len(results))"
      ],
      "execution_count": 15,
      "outputs": [
        {
          "output_type": "stream",
          "text": [
            "[0.8, 0.7857142857142857, 0.5833333333333334, 0.7368421052631579, 0.6875, 0.6666666666666666, 0.5882352941176471, 0.7692307692307693, 0.8333333333333334, 0.5882352941176471, 0.7647058823529411, 0.71875, 0.7619047619047619, 0.6521739130434783, 0.7916666666666666, 0.6923076923076923, 0.6206896551724138, 0.7307692307692307, 0.6666666666666666, 0.6071428571428571, 0.6666666666666666, 0.6538461538461539, 0.6818181818181818, 0.7647058823529411, 0.6785714285714286, 0.6666666666666666, 0.71875, 0.7142857142857143, 0.7857142857142857, 0.59375]\n",
            "0.6990214462575196\n"
          ],
          "name": "stdout"
        }
      ]
    },
    {
      "metadata": {
        "id": "xXoFvy0ebDhd",
        "colab_type": "text"
      },
      "cell_type": "markdown",
      "source": [
        "This says that pure rankings are perhaps a little worse at the top than they are in the entire population, but only slightly and not confidently.\n",
        "\n",
        "Finally let's look at that slice of data"
      ]
    },
    {
      "metadata": {
        "id": "MQHP4aBpbdpb",
        "colab_type": "code",
        "colab": {
          "base_uri": "https://localhost:8080/",
          "height": 917
        },
        "outputId": "8e37efbe-f967-4f65-c271-173b7f2b7891"
      },
      "cell_type": "code",
      "source": [
        "def explore_top(scores):\n",
        "  ratings = rank(scores)\n",
        "\n",
        "  threshold = sorted([ratings[i] for i in ratings])[int(len(ratings)* .9)]\n",
        "  top_games = defaultdict(list)\n",
        "  for team in scores:\n",
        "    if ratings[team] > threshold:\n",
        "      for game in scores[team]:\n",
        "        if ratings[game[1]] > threshold:\n",
        "          top_games[team].append(game)\n",
        "    \n",
        "  viz_differentials(ratings, top_games)\n",
        "explore_top(weighted_scores)"
      ],
      "execution_count": 16,
      "outputs": [
        {
          "output_type": "stream",
          "text": [
            "/usr/local/lib/python3.6/dist-packages/sklearn/utils/validation.py:761: DataConversionWarning: A column-vector y was passed when a 1d array was expected. Please change the shape of y to (n_samples, ), for example using ravel().\n",
            "  y = column_or_1d(y, warn=True)\n"
          ],
          "name": "stderr"
        },
        {
          "output_type": "display_data",
          "data": {
            "image/png": "[encoded data removed]",
            "text/plain": [
              "<Figure size 1080x1080 with 1 Axes>"
            ]
          },
          "metadata": {
            "tags": []
          }
        }
      ]
    }
  ]
}