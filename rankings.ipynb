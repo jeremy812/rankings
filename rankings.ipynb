{
  "nbformat": 4,
  "nbformat_minor": 0,
  "metadata": {
    "colab": {
      "name": "rankings.ipynb",
      "version": "0.3.2",
      "provenance": [],
      "collapsed_sections": [],
      "include_colab_link": true
    },
    "kernelspec": {
      "name": "python3",
      "display_name": "Python 3"
    }
  },
  "cells": [
    {
      "cell_type": "markdown",
      "metadata": {
        "id": "view-in-github",
        "colab_type": "text"
      },
      "source": [
        "<a href=\"https://colab.research.google.com/github/svtuck/rankings/blob/master/rankings.ipynb\" target=\"_parent\"><img src=\"https://colab.research.google.com/assets/colab-badge.svg\" alt=\"Open In Colab\"/></a>"
      ]
    },
    {
      "metadata": {
        "id": "o7QPK-BbPDWK",
        "colab_type": "text"
      },
      "cell_type": "markdown",
      "source": [
        "Let's start by going in the order that USA ultimate presents the algorithm here: https://play.usaultimate.org/teams/events/rankings/\n",
        "\n",
        "Up first is defining the score differential function."
      ]
    },
    {
      "metadata": {
        "id": "HE06Ww4-PQGK",
        "colab_type": "code",
        "colab": {}
      },
      "cell_type": "code",
      "source": [
        "import math\n",
        "from collections import namedtuple\n",
        "\n",
        "GameScore = namedtuple('GameScore', ['winning', 'losing'])\n",
        "sin_p_four_pi = math.sin(.4 * math.pi)\n",
        "def game_score_differential(score: GameScore) -> float:\n",
        "\tr = score.losing / (score.winning - 1)\n",
        "\tdifferential = 125 + 475 * math.sin(min(1, (1 - r) / .5) * .4 * math.pi) / sin_p_four_pi\n",
        "\treturn differential"
      ],
      "execution_count": 0,
      "outputs": []
    },
    {
      "metadata": {
        "id": "vRxOcvsNPSmy",
        "colab_type": "text"
      },
      "cell_type": "markdown",
      "source": [
        "Let's spot check it. I'm assuming the round is applied AFTER the score, for the purposes of presenting the example table."
      ]
    },
    {
      "metadata": {
        "id": "MWqcoGMwPVHc",
        "colab_type": "code",
        "colab": {}
      },
      "cell_type": "code",
      "source": [
        "assert round(game_score_differential(GameScore(15, 14))) == 125\n",
        "assert round(game_score_differential(GameScore(15, 5))) == 600\n",
        "assert round(game_score_differential(GameScore(15, 11))) == 381\n",
        "assert round(game_score_differential(GameScore(13, 9))) == 419\n",
        "assert round(game_score_differential(GameScore(13, 7))) == 558\n",
        "assert round(game_score_differential(GameScore(11, 9))) == 249\n",
        "assert round(game_score_differential(GameScore(11, 6))) == 547"
      ],
      "execution_count": 0,
      "outputs": []
    },
    {
      "metadata": {
        "id": "EyJ59FhGTiWn",
        "colab_type": "text"
      },
      "cell_type": "markdown",
      "source": [
        "Next we define the \"score weight\". "
      ]
    },
    {
      "metadata": {
        "id": "d1pYYSJoT2kH",
        "colab_type": "code",
        "colab": {}
      },
      "cell_type": "code",
      "source": [
        "def score_weight(score: GameScore) -> float:\n",
        "  return min(1, math.sqrt((score.winning + max(score.losing, (score.winning - 1) / 2)) / 19))\n",
        "\n",
        "assert round(score_weight(GameScore(13,0)), 2) == 1.0\n",
        "assert round(score_weight(GameScore(1,0)), 2) == .23\n",
        "assert round(score_weight(GameScore(11,3)), 2) == .92\n",
        "assert round(score_weight(GameScore(12,6)), 2) == .97\n"
      ],
      "execution_count": 0,
      "outputs": []
    },
    {
      "metadata": {
        "id": "Vyh1j0QoVbJB",
        "colab_type": "text"
      },
      "cell_type": "markdown",
      "source": [
        "This looks okay, but I see at least one difference between my function and the published table, I'm going to chalk this up to rounding somewhere..."
      ]
    },
    {
      "metadata": {
        "id": "yZzaq6e5Vh4C",
        "colab_type": "code",
        "outputId": "3065eec1-e3d0-45d3-eb72-a56a5f464e04",
        "colab": {
          "base_uri": "https://localhost:8080/",
          "height": 34
        }
      },
      "cell_type": "code",
      "source": [
        "print(round(score_weight(GameScore(8,2)), 2) - .76)"
      ],
      "execution_count": 4,
      "outputs": [
        {
          "output_type": "stream",
          "text": [
            "0.020000000000000018\n"
          ],
          "name": "stdout"
        }
      ]
    },
    {
      "metadata": {
        "id": "A7KqGyeAV-a5",
        "colab_type": "text"
      },
      "cell_type": "markdown",
      "source": [
        "Finally, we need to interpret this: \"The date weight depends upon how recently the game was played; games in the first week of the regular season will get a date weight of 0.5, while games in the last week of the season get a date weight of 1.0. Date weights of games in intermediate weeks are interpolated exponentially, so each week's date weight is a fixed multiple of the previous week's date weight.\"\n",
        "\n",
        "There is no published formula here, so I will interpret it as best I can. If we have played N weeks, then week 1 gets a weight of .5, week N gets a weight of 1.0 and week m < N gets a weight of Nth root of 2.\n",
        "\n",
        ".5 * factor ^ m = .5\n",
        "\n",
        ".5 * factor ^ N = 1\n",
        "\n",
        "factor^ N = 2 \n",
        "\n",
        "factor = 2 ^ (1/N)"
      ]
    },
    {
      "metadata": {
        "id": "_w8mPXuIXgal",
        "colab_type": "code",
        "colab": {}
      },
      "cell_type": "code",
      "source": [
        "#Defining this constant outside, we will set this appropriately later\n",
        "NUM_WEEKS = 10\n",
        "\n",
        "def get_weighting_function():\n",
        "  factor = pow(2, 1/(NUM_WEEKS - 1))\n",
        "  return lambda m: .5 * pow(factor, m - 1)\n",
        "\n",
        "\n",
        "assert round(get_weighting_function()(1), 2) == .5\n",
        "assert round(get_weighting_function()(10), 2) == 1\n",
        "NUM_WEEKS = 3\n",
        "assert round(get_weighting_function()(1), 2) == .5\n",
        "assert round(get_weighting_function()(3), 2) == 1\n",
        "\n",
        "#Weights are constant factors between weeks\n",
        "NUM_WEEKS = 10\n",
        "assert round(get_weighting_function()(5)/get_weighting_function()(4), 2) == round(get_weighting_function()(8)/get_weighting_function()(7), 2)"
      ],
      "execution_count": 0,
      "outputs": []
    },
    {
      "metadata": {
        "id": "zsEPv-mXiKA8",
        "colab_type": "text"
      },
      "cell_type": "markdown",
      "source": [
        "Collect all calculations that are not dependent on actual ratings."
      ]
    },
    {
      "metadata": {
        "id": "D59zNhayhYNT",
        "colab_type": "code",
        "colab": {}
      },
      "cell_type": "code",
      "source": [
        "WeightedScore = namedtuple(\"WeightedScore\", ['differential', 'score_weight', 'date_weight'])\n",
        "\n",
        "def weight_score(score: GameScore, week_number: int) -> WeightedScore:\n",
        "  differential = game_score_differential(score)\n",
        "  s = score_weight(score)\n",
        "  d = get_weighting_function()(week_number)\n",
        "  return WeightedScore(round(differential), round(s,3), round(d,3))"
      ],
      "execution_count": 0,
      "outputs": []
    },
    {
      "metadata": {
        "id": "Ed0H729eY4dI",
        "colab_type": "text"
      },
      "cell_type": "markdown",
      "source": [
        "Now we have our scoring functions defined, and we can move on to read in our data, downloaded from https://www.usaultimate.org/college/#Rankings\n",
        "\n"
      ]
    },
    {
      "metadata": {
        "colab_type": "code",
        "id": "_rdq9mxSbVw_",
        "outputId": "9b3f4a8d-0c77-4488-8ff5-5b35ba667396",
        "colab": {
          "base_uri": "https://localhost:8080/",
          "height": 34
        }
      },
      "cell_type": "code",
      "source": [
        "import csv\n",
        "games = []\n",
        "\n",
        "# We will use \"ids\" and map back when we display something\n",
        "name_dictionary = {}\n",
        "with open('games.csv') as csvfile:\n",
        "  game_reader = csv.DictReader(csvfile)\n",
        "  for row in game_reader:\n",
        "    try:\n",
        "      team_1_score = int(row['Team 1 Score'])\n",
        "      team_2_score = int(row['Team 2 Score'])\n",
        "      games.append(row)\n",
        "      name_dictionary[row['Team 1 ID']] = row['School Name 1+Team Designation']\n",
        "      name_dictionary[row['Team 2 ID']] = row['School Name 2+Team Designation']\n",
        "    except ValueError as e:\n",
        "      pass\n",
        "\n",
        "print(len(games), len(name_dictionary.keys()))"
      ],
      "execution_count": 7,
      "outputs": [
        {
          "output_type": "stream",
          "text": [
            "2702 428\n"
          ],
          "name": "stdout"
        }
      ]
    },
    {
      "metadata": {
        "id": "P6-lAo8bibIK",
        "colab_type": "text"
      },
      "cell_type": "markdown",
      "source": [
        "Now we can precalculate weights and differentials"
      ]
    },
    {
      "metadata": {
        "id": "ND92OHpSc0Lk",
        "colab_type": "code",
        "outputId": "fcad95db-9375-461e-9d99-ab4d3a784320",
        "colab": {
          "base_uri": "https://localhost:8080/",
          "height": 34
        }
      },
      "cell_type": "code",
      "source": [
        "from collections import defaultdict\n",
        "from datetime import datetime\n",
        "from dateutil.parser import parse\n",
        "\n",
        "start_date = datetime.max\n",
        "end_date = datetime.min\n",
        "for game in games:\n",
        "  d = parse(game['Game Date'])\n",
        "  if d < start_date:\n",
        "    start_date = d\n",
        "  if d > end_date:\n",
        "    end_date = d\n",
        "\n",
        "NUM_WEEKS = int((end_date - start_date).days / 7 + 1)\n",
        "\n",
        "\n",
        "def games_to_scores(games):\n",
        "  weighted_scores = defaultdict(list)\n",
        "  for game in games:\n",
        "    try: \n",
        "      #We are calling the first week, 'week 1'\n",
        "      week_number =  int((parse(game['Game Date']) - start_date).days / 7 + 1)\n",
        "      team_1_score = int(game['Team 1 Score'])\n",
        "      team_2_score = int(game['Team 2 Score'])\n",
        "\n",
        "      score = GameScore(max(team_1_score, team_2_score), min(team_1_score, team_2_score))\n",
        "      weights = weight_score(score, week_number)\n",
        "      loser_weights = WeightedScore(-1 * weights.differential , weights.score_weight, weights.date_weight)\n",
        "      if (team_1_score >= team_2_score):\n",
        "        winner = game['Team 1 ID']\n",
        "        loser = game['Team 2 ID']\n",
        "      else:\n",
        "        winner = game['Team 2 ID']\n",
        "        loser = game['Team 1 ID']\n",
        "\n",
        "      weighted_scores[winner].append((weights, loser))\n",
        "      weighted_scores[loser].append((loser_weights, winner))\n",
        "\n",
        "    except ValueError as e:\n",
        "      # Throw out L/W/F... no defined way of handling them\n",
        "      pass\n",
        "  return weighted_scores\n",
        "weighted_scores = games_to_scores(games)\n",
        "print(len(weighted_scores))  \n",
        "\n"
      ],
      "execution_count": 8,
      "outputs": [
        {
          "output_type": "stream",
          "text": [
            "428\n"
          ],
          "name": "stdout"
        }
      ]
    },
    {
      "metadata": {
        "id": "8XJDqa77ngGk",
        "colab_type": "text"
      },
      "cell_type": "markdown",
      "source": [
        "Let's spot check some, say: Oregon (19693), and Puget Sound (20039) and verify that all differentials sum to 0."
      ]
    },
    {
      "metadata": {
        "id": "IpeKwRN5lyg2",
        "colab_type": "code",
        "outputId": "64b7b3ec-3311-4e1a-8413-6b9a0bfd8b39",
        "colab": {
          "base_uri": "https://localhost:8080/",
          "height": 51
        }
      },
      "cell_type": "code",
      "source": [
        "\n",
        "print(sum(x[0].differential > 0 for x in weighted_scores[\"19693\"]), sum(x[0].differential < 0 for x in weighted_scores[\"19693\"]))\n",
        "print(sum(x[0].differential > 0 for x in weighted_scores[\"20039\"]), sum(x[0].differential < 0 for x in weighted_scores[\"20039\"]))"
      ],
      "execution_count": 9,
      "outputs": [
        {
          "output_type": "stream",
          "text": [
            "14 5\n",
            "12 4\n"
          ],
          "name": "stdout"
        }
      ]
    },
    {
      "metadata": {
        "id": "udeIp7luppEv",
        "colab_type": "code",
        "colab": {}
      },
      "cell_type": "code",
      "source": [
        "assert sum([x[0].differential for i in weighted_scores for x in weighted_scores[i] ]) == 0"
      ],
      "execution_count": 0,
      "outputs": []
    },
    {
      "metadata": {
        "id": "O_vaUR24ppRA",
        "colab_type": "text"
      },
      "cell_type": "markdown",
      "source": [
        "Now let's run the the rankings"
      ]
    },
    {
      "metadata": {
        "id": "C9zCUvraps26",
        "colab_type": "code",
        "outputId": "580088d9-fc9c-4993-da65-4ecaa534145b",
        "colab": {
          "base_uri": "https://localhost:8080/",
          "height": 357
        }
      },
      "cell_type": "code",
      "source": [
        "def new_rating(team_id, ratings, scores):\n",
        "  s = scores[team_id]\n",
        "  numerator = [(ratings[opponent_id] + weights.differential) * weights.score_weight * weights.date_weight for (weights, opponent_id) in s]\n",
        "  denominator = [weights.score_weight * weights.date_weight for (weights, _) in s]\n",
        "  return sum(numerator) / sum(denominator)\n",
        "\n",
        "def rank(scores):\n",
        "  \n",
        "  ratings = {i: 1000 for i in scores}\n",
        "  for r in range(100):\n",
        "    new_ratings = {i: new_rating(i, ratings, scores) for i in ratings.keys()}\n",
        "    ratings = new_ratings\n",
        "  return ratings\n",
        "\n",
        "def top_n(n, ratings):\n",
        "  return sorted([(ratings[i], name_dictionary[i]) for i in ratings], reverse=True)[:n]\n",
        "\n",
        "def print_top_n(n, ratings):\n",
        "  t = top_n(n, ratings)\n",
        "  for x in t:\n",
        "    print(x[1], round(x[0]))\n",
        "    \n",
        "\n",
        "\n",
        "\n",
        "print_top_n(20, rank(weighted_scores))\n",
        "\n",
        "  "
      ],
      "execution_count": 11,
      "outputs": [
        {
          "output_type": "stream",
          "text": [
            "Brown 2065\n",
            "North Carolina 2050\n",
            "Oregon 2027\n",
            "Pittsburgh 2024\n",
            "Cal Poly-SLO 1972\n",
            "Brigham Young 1968\n",
            "Carleton College-CUT 1961\n",
            "Colorado 1937\n",
            "Massachusetts 1905\n",
            "North Carolina State 1878\n",
            "Washington 1869\n",
            "Wisconsin 1862\n",
            "Southern California 1848\n",
            "Texas 1835\n",
            "Ohio State 1834\n",
            "Central Florida 1828\n",
            "Minnesota 1795\n",
            "Michigan 1740\n",
            "Tufts 1737\n",
            "Colorado State 1735\n"
          ],
          "name": "stdout"
        }
      ]
    },
    {
      "metadata": {
        "id": "YgH7MrUDBmwk",
        "colab_type": "text"
      },
      "cell_type": "markdown",
      "source": [
        "Looks about right. There are a couple of special edge cases I haven't included, but I think this is safe to call a correct implementation of the algorithm. Now let's try to evaluate it.\n",
        "\n",
        "First lets look at distribution of ratings.\n"
      ]
    },
    {
      "metadata": {
        "id": "KguUcaosBmNQ",
        "colab_type": "code",
        "outputId": "d55abe0d-e53d-4c75-fdf4-127c8c8ba448",
        "colab": {
          "base_uri": "https://localhost:8080/",
          "height": 422
        }
      },
      "cell_type": "code",
      "source": [
        "import matplotlib.pyplot as plt\n",
        "ratings = rank(weighted_scores)\n",
        "plt.hist([ratings[i] for i in ratings], bins=20)"
      ],
      "execution_count": 12,
      "outputs": [
        {
          "output_type": "execute_result",
          "data": {
            "text/plain": [
              "(array([ 2.,  1.,  5.,  8., 10., 20., 26., 45., 36., 38., 48., 44., 32.,\n",
              "        34., 25., 18., 15.,  5.,  9.,  7.]),\n",
              " array([-475.16775281, -348.17608286, -221.18441291,  -94.19274297,\n",
              "          32.79892698,  159.79059693,  286.78226688,  413.77393683,\n",
              "         540.76560677,  667.75727672,  794.74894667,  921.74061662,\n",
              "        1048.73228656, 1175.72395651, 1302.71562646, 1429.70729641,\n",
              "        1556.69896635, 1683.6906363 , 1810.68230625, 1937.6739762 ,\n",
              "        2064.66564615]),\n",
              " <a list of 20 Patch objects>)"
            ]
          },
          "metadata": {
            "tags": []
          },
          "execution_count": 12
        },
        {
          "output_type": "display_data",
          "data": {
            "image/png": "[encoded data removed]",
            "text/plain": [
              "<Figure size 432x288 with 1 Axes>"
            ]
          },
          "metadata": {
            "tags": []
          }
        }
      ]
    },
    {
      "metadata": {
        "id": "wvsS7aKXDl-Q",
        "colab_type": "text"
      },
      "cell_type": "markdown",
      "source": [
        "That jives with what we would expect. Next lets explore how predictive the ratings are. To do this, we'll train a logistic regression model on the rating differentials and results."
      ]
    },
    {
      "metadata": {
        "id": "1P5Sv10lDvVH",
        "colab_type": "code",
        "outputId": "6491293d-2051-458b-b9d7-a3aadedd4a0c",
        "colab": {
          "base_uri": "https://localhost:8080/",
          "height": 921
        }
      },
      "cell_type": "code",
      "source": [
        "from sklearn import linear_model\n",
        "import numpy as np\n",
        "\n",
        "def viz_differentials(ratings, scores):\n",
        "  rating_differentials = []\n",
        "  results = []\n",
        "  for team in scores:\n",
        "    for game in scores[team]:\n",
        "      results.append( 1 if game[0].differential > 0 else 0)\n",
        "      rating_differentials.append(ratings[team] - ratings[game[1]])\n",
        "  X = np.reshape(rating_differentials, (-1, 1))\n",
        "  y = np.reshape(results, (-1, 1))\n",
        "  clf = linear_model.LogisticRegression(solver='lbfgs')\n",
        "  clf.fit(X, y)\n",
        "  plt.figure(1, figsize=(15, 15))\n",
        "  plt.clf()\n",
        "  plt.scatter(X.ravel(), y, color='black', zorder=20)\n",
        "  X_test = np.linspace(-1000, 1000, 300)\n",
        "  def model(x):\n",
        "    return 1 / (1 + np.exp(-x))\n",
        "\n",
        "  loss = model(X_test * clf.coef_ + clf.intercept_).ravel()\n",
        "  plt.plot(X_test, loss, color='red', linewidth=3)\n",
        "\n",
        "  binned = defaultdict(list)\n",
        "  for (differential, result) in zip(rating_differentials, results):\n",
        "    binned[50 * round(differential/100)].append(result)\n",
        "  x = []\n",
        "  y = []\n",
        "  area = []\n",
        "  for i in binned:\n",
        "    x.append(i)\n",
        "    y.append(sum(binned[i])/len(binned[i]))\n",
        "    area.append(len(binned[i]))\n",
        "  plt.scatter(x,y,s=area)\n",
        "\n",
        "\n",
        "def explore(scores):\n",
        "  ratings = rank(scores)\n",
        "  viz_differentials(ratings, scores)\n",
        "  \n",
        "      \n",
        "explore(weighted_scores)\n",
        "    \n",
        "  "
      ],
      "execution_count": 13,
      "outputs": [
        {
          "output_type": "stream",
          "text": [
            "/usr/local/lib/python3.6/dist-packages/sklearn/utils/validation.py:761: DataConversionWarning: A column-vector y was passed when a 1d array was expected. Please change the shape of y to (n_samples, ), for example using ravel().\n",
            "  y = column_or_1d(y, warn=True)\n"
          ],
          "name": "stderr"
        },
        {
          "output_type": "display_data",
          "data": {
            "image/png": "[encoded data removed]",
            "text/plain": [
              "<Figure size 1080x1080 with 1 Axes>"
            ]
          },
          "metadata": {
            "tags": []
          }
        }
      ]
    },
    {
      "metadata": {
        "id": "kDTQtyIRMMaF",
        "colab_type": "text"
      },
      "cell_type": "markdown",
      "source": [
        "So we have reasonably confident (>80%) predictions when ratings are more than about 100 points different. Finally, I wanted to run a cross validation on the algorithm. To do that, we with withhold 10% of games, rerank, and then use the resulting rankings to predict the winners of the held out games."
      ]
    },
    {
      "metadata": {
        "id": "OTc0ZGRYQZ5e",
        "colab_type": "code",
        "outputId": "273d2384-4fb6-4030-9886-601f140da8a5",
        "colab": {
          "base_uri": "https://localhost:8080/",
          "height": 51
        }
      },
      "cell_type": "code",
      "source": [
        "import random\n",
        "\n",
        "def evaluate(games):\n",
        "  random.shuffle(games)\n",
        "  sample_size = int(len(games) / 10)\n",
        "  test = games[:sample_size]\n",
        "  train = games[sample_size:]\n",
        "  \n",
        "  scores = games_to_scores(train)\n",
        "  ranks = rank(scores)\n",
        "  avg = sum([ranks[i] for i in ranks])/len(ranks)\n",
        "\n",
        "  results = [(ranks.get(game['Team 1 ID'], avg) > ranks.get(game['Team 2 ID'], avg)) == (int(game['Team 1 Score']) > int(game['Team 2 Score'])) for game in test]\n",
        "  return sum(results)/len(results)\n",
        "\n",
        "\n",
        "results = [evaluate(games) for i in range(3)]\n",
        "print(results)\n",
        "print(sum(results)/len(results))"
      ],
      "execution_count": 14,
      "outputs": [
        {
          "output_type": "stream",
          "text": [
            "[0.7777777777777778, 0.7703703703703704, 0.7814814814814814]\n",
            "0.7765432098765433\n"
          ],
          "name": "stdout"
        }
      ]
    },
    {
      "metadata": {
        "id": "tAY8Tv57XW5w",
        "colab_type": "text"
      },
      "cell_type": "markdown",
      "source": [
        "We are looking at roughly 25% of all games as upsets according to our algorithm. It'd be interesting to know if this is better or worse at the top. So we will repeat this but only evaluate against the top 10% of teams.\n",
        "\n"
      ]
    },
    {
      "metadata": {
        "id": "3bE8S2YdYqb-",
        "colab_type": "code",
        "outputId": "ac0b543b-9295-48a8-e332-82d0b8bba1b2",
        "colab": {
          "base_uri": "https://localhost:8080/",
          "height": 51
        }
      },
      "cell_type": "code",
      "source": [
        "def evaluate_top_k(games, k):\n",
        "  random.shuffle(games)\n",
        "  sample_size = int(len(games) / 10)\n",
        "  test = games[:sample_size]\n",
        "  train = games[sample_size:]\n",
        "  \n",
        "  scores = games_to_scores(train)\n",
        "  ranks = rank(scores)\n",
        "  \n",
        "  avg = sum([ranks[i] for i in ranks])/len(ranks)\n",
        "  threshold = sorted([ranks[i] for i in ranks])[int(len(ranks)* k)]\n",
        "  \n",
        "  top_games = list(filter(lambda game: (ranks.get(game['Team 1 ID'], avg) > threshold and ranks.get(game['Team 2 ID'], avg) > threshold), test))\n",
        "  results = [(ranks.get(game['Team 1 ID'], avg) > ranks.get(game['Team 2 ID'], avg)) == (int(game['Team 1 Score']) > int(game['Team 2 Score'])) for game in top_games]\n",
        "  return sum(results)/len(results)\n",
        "\n",
        "\n",
        "results = [evaluate_top_k(games, .9) for i in range(3)]\n",
        "print(results)\n",
        "print(sum(results)/len(results))"
      ],
      "execution_count": 15,
      "outputs": [
        {
          "output_type": "stream",
          "text": [
            "[0.6923076923076923, 0.7037037037037037, 0.7142857142857143]\n",
            "0.7034323700990367\n"
          ],
          "name": "stdout"
        }
      ]
    },
    {
      "metadata": {
        "id": "xXoFvy0ebDhd",
        "colab_type": "text"
      },
      "cell_type": "markdown",
      "source": [
        "This says that pure rankings are perhaps a little worse at the top than they are in the entire population, but only slightly and not confidently.\n",
        "\n",
        "Finally let's look at that slice of data"
      ]
    },
    {
      "metadata": {
        "id": "MQHP4aBpbdpb",
        "colab_type": "code",
        "outputId": "06dec221-a4d7-4189-fd9d-c9abfca3e07e",
        "colab": {
          "base_uri": "https://localhost:8080/",
          "height": 921
        }
      },
      "cell_type": "code",
      "source": [
        "def explore_top(scores):\n",
        "  ratings = rank(scores)\n",
        "\n",
        "  threshold = sorted([ratings[i] for i in ratings])[int(len(ratings)* .9)]\n",
        "  top_games = defaultdict(list)\n",
        "  for team in scores:\n",
        "    if ratings[team] > threshold:\n",
        "      for game in scores[team]:\n",
        "        if ratings[game[1]] > threshold:\n",
        "          top_games[team].append(game)\n",
        "    \n",
        "  viz_differentials(ratings, top_games)\n",
        "explore_top(weighted_scores)"
      ],
      "execution_count": 16,
      "outputs": [
        {
          "output_type": "stream",
          "text": [
            "/usr/local/lib/python3.6/dist-packages/sklearn/utils/validation.py:761: DataConversionWarning: A column-vector y was passed when a 1d array was expected. Please change the shape of y to (n_samples, ), for example using ravel().\n",
            "  y = column_or_1d(y, warn=True)\n"
          ],
          "name": "stderr"
        },
        {
          "output_type": "display_data",
          "data": {
            "image/png": "[encoded data removed]",
            "text/plain": [
              "<Figure size 1080x1080 with 1 Axes>"
            ]
          },
          "metadata": {
            "tags": []
          }
        }
      ]
    },
    {
      "metadata": {
        "id": "QTYr-mC6E1XD",
        "colab_type": "text"
      },
      "cell_type": "markdown",
      "source": [
        "\n"
      ]
    },
    {
      "metadata": {
        "id": "tYaw0Hd006vy",
        "colab_type": "code",
        "colab": {
          "base_uri": "https://localhost:8080/",
          "height": 357
        },
        "outputId": "24dc378a-e054-48f5-db69-83cfbe840c7b"
      },
      "cell_type": "code",
      "source": [
        "def contribs(team_id, ratings, scores):\n",
        "  s = scores[team_id]\n",
        "  wins = [(ratings[opponent_id] + weights.differential) * weights.score_weight * weights.date_weight for (weights, opponent_id) in s if weights.differential > 0]\n",
        "  losses = [(ratings[opponent_id] + weights.differential) * weights.score_weight * weights.date_weight for (weights, opponent_id) in s if weights.differential <= 0]\n",
        "  numerator = [(ratings[opponent_id] + weights.differential) * weights.score_weight * weights.date_weight for (weights, opponent_id) in s]\n",
        "  \n",
        "  wins_denominator = [weights.score_weight * weights.date_weight for (weights, _) in s if weights.differential > 0]\n",
        "  \n",
        "  denominator = [weights.score_weight * weights.date_weight for (weights, _) in s ]\n",
        "\n",
        "  pts_from_win = sum(wins)/sum(denominator)\n",
        "  return pts_from_win / ratings[team_id]\n",
        "\n",
        "def contribs_play_up(team_id, ratings, scores):\n",
        "  s = scores[team_id]\n",
        "  wins = [(ratings[opponent_id] + weights.differential) * weights.score_weight * weights.date_weight for (weights, opponent_id) in s if ratings[opponent_id] < ratings[team_id]]\n",
        "  losses = [(ratings[opponent_id] + weights.differential) * weights.score_weight * weights.date_weight for (weights, opponent_id) in s if weights.differential <= 0]\n",
        "  numerator = [(ratings[opponent_id] + weights.differential) * weights.score_weight * weights.date_weight for (weights, opponent_id) in s]\n",
        "  \n",
        "  wins_denominator = [weights.score_weight * weights.date_weight for (weights, _) in s if weights.differential > 0]\n",
        "  \n",
        "  denominator = [weights.score_weight * weights.date_weight for (weights, _) in s ]\n",
        "\n",
        "  pts_from_win = sum(wins)/sum(denominator)\n",
        "  return pts_from_win / ratings[team_id]\n",
        "\n",
        "ratings = rank(weighted_scores)\n",
        "c = sorted([(contribs_play_up(t, ratings, weighted_scores), ratings[t], name_dictionary[t]) for t in ratings])\n",
        "for t in c:\n",
        "  if(t[1] > 1700):\n",
        "    print(t)\n",
        "\n",
        "  "
      ],
      "execution_count": 17,
      "outputs": [
        {
          "output_type": "stream",
          "text": [
            "(0.5128888451543159, 1737.246357104353, 'Tufts')\n",
            "(0.5309759747199394, 1833.9616353344918, 'Ohio State')\n",
            "(0.6234552971866283, 1834.7723569155642, 'Texas')\n",
            "(0.6271329268350349, 1734.9079155393983, 'Colorado State')\n",
            "(0.651873125968006, 1960.8240079136378, 'Carleton College-CUT')\n",
            "(0.6669171752405064, 1795.4210182539375, 'Minnesota')\n",
            "(0.6979474289606733, 1828.0785011476976, 'Central Florida')\n",
            "(0.7310002923162585, 1868.5523690194107, 'Washington')\n",
            "(0.7324813989968558, 1905.4655595015804, 'Massachusetts')\n",
            "(0.7633802931193004, 1936.925593055036, 'Colorado')\n",
            "(0.7747915291757058, 1862.0578309372556, 'Wisconsin')\n",
            "(0.7804413409438015, 1877.9463200878808, 'North Carolina State')\n",
            "(0.8158887719876639, 1967.50572483209, 'Brigham Young')\n",
            "(0.8458436415011462, 1848.3004284832004, 'Southern California')\n",
            "(0.8781435612198681, 1972.454323692527, 'Cal Poly-SLO')\n",
            "(0.8876385923464437, 2023.956770325937, 'Pittsburgh')\n",
            "(0.9025823367831051, 2049.7007612742955, 'North Carolina')\n",
            "(1.0000000826807809, 1739.606084920475, 'Michigan')\n",
            "(1.0000062746493596, 2064.6656461453476, 'Brown')\n",
            "(1.0000088749596494, 2026.874875017427, 'Oregon')\n"
          ],
          "name": "stdout"
        }
      ]
    },
    {
      "metadata": {
        "id": "IqVAFkYE07cn",
        "colab_type": "code",
        "colab": {
          "base_uri": "https://localhost:8080/",
          "height": 697
        },
        "outputId": "a9cdefb3-e5eb-452e-a7fd-f38ccc4fd73b"
      },
      "cell_type": "code",
      "source": [
        "def wins_vs_expected(ratings, scores):\n",
        "  rating_differentials = []\n",
        "  results = []\n",
        "  for team in scores:\n",
        "    for game in scores[team]:\n",
        "      results.append( 1 if game[0].differential > 0 else 0)\n",
        "      rating_differentials.append(ratings[team] - ratings[game[1]])\n",
        "  X = np.reshape(rating_differentials, (-1, 1))\n",
        "  y = np.reshape(results, (-1, 1))\n",
        "  clf = linear_model.LogisticRegression(solver='lbfgs')\n",
        "  clf.fit(X, y)\n",
        "  w,g,e = [],[],[]\n",
        "  diffs = {}\n",
        "  for team in scores:\n",
        "    wins = 0\n",
        "    games = 0\n",
        "    expected_wins = 0\n",
        "    for game in scores[team]:\n",
        "      diff = ratings[team] - ratings[game[1]]\n",
        "      expected_wins += clf.predict_proba(np.reshape([diff], (-1, 1)))[0][1]\n",
        "      games += 1\n",
        "      wins += 1 if game[0].differential > 0 else 0\n",
        "\n",
        "    if games > 0:\n",
        "      w.append(wins/games)\n",
        "      g.append(games)\n",
        "      e.append(expected_wins/games)\n",
        "      diffs[team] = (wins/games - expected_wins/games, wins, expected_wins)\n",
        "\n",
        "  x = np.array(w)\n",
        "  y = np.array(e)\n",
        "  print(x.shape, y.shape)\n",
        "  plt.scatter(x,y, label=\"wins\")\n",
        "  s = sorted([(diffs[i],name_dictionary[i]) for i in diffs if ratings[i] > 1700])\n",
        "  print(\"Difference in win rate, Actual Wins, Expected wins\")\n",
        "  for team in s:\n",
        "    print(team)\n",
        "wins_vs_expected(ratings, weighted_scores)\n",
        "  "
      ],
      "execution_count": 18,
      "outputs": [
        {
          "output_type": "stream",
          "text": [
            "/usr/local/lib/python3.6/dist-packages/sklearn/utils/validation.py:761: DataConversionWarning: A column-vector y was passed when a 1d array was expected. Please change the shape of y to (n_samples, ), for example using ravel().\n",
            "  y = column_or_1d(y, warn=True)\n"
          ],
          "name": "stderr"
        },
        {
          "output_type": "stream",
          "text": [
            "(428,) (428,)\n",
            "Difference in win rate, Actual Wins, Expected wins\n",
            "((-0.10524622400659311, 12, 14.315416928145048), 'Minnesota')\n",
            "((-0.09271937001967845, 10, 11.854387400393568), 'Colorado State')\n",
            "((-0.08352883132169353, 14, 15.587047795112177), 'Oregon')\n",
            "((-0.0783557953634284, 13, 14.567115907268569), 'Washington')\n",
            "((-0.0702948354049161, 17, 18.546486378908153), 'Pittsburgh')\n",
            "((-0.06498835121426483, 12, 13.169790321856766), 'Colorado')\n",
            "((-0.06288799111126275, 13, 14.32064781333652), 'Carleton College-CUT')\n",
            "((-0.059888728082088005, 14, 15.077997105477584), 'Southern California')\n",
            "((-0.046696291382847366, 18, 19.167407284571183), 'North Carolina State')\n",
            "((-0.03627125636314077, 14, 14.725425127262815), 'Wisconsin')\n",
            "((-0.03143168638758509, 10, 10.628633727751701), 'Tufts')\n",
            "((-0.017458070769816092, 18, 18.366619486166137), 'Michigan')\n",
            "((-0.004836374404927235, 9, 9.072545616073908), 'Ohio State')\n",
            "((0.027278678911093035, 22, 21.29075434831158), 'Cal Poly-SLO')\n",
            "((0.03879534380194971, 23, 22.030116404951258), 'North Carolina')\n",
            "((0.050686970087630234, 22, 20.732825747809244), 'Brigham Young')\n",
            "((0.057335037671703115, 20, 18.73862917122253), 'Brown')\n",
            "((0.07407697336578034, 16, 14.518460532684394), 'Massachusetts')\n",
            "((0.08842067478961069, 12, 10.673689878155841), 'Central Florida')\n",
            "((0.12116338961975182, 13, 10.697895597224717), 'Texas')\n"
          ],
          "name": "stdout"
        },
        {
          "output_type": "display_data",
          "data": {
            "image/png": "[encoded data removed]",
            "text/plain": [
              "<Figure size 432x288 with 1 Axes>"
            ]
          },
          "metadata": {
            "tags": []
          }
        }
      ]
    },
    {
      "metadata": {
        "id": "qN8jdHdHYU4q",
        "colab_type": "text"
      },
      "cell_type": "markdown",
      "source": [
        "One of the interesting questions in rankings is whether or not a \"total ordering\" (i.e. any two teams are comparable) is the right model. In some games, it obviously is not; rock, paper scissors for example. In other domains, it is even less clear; if you were to present movies to users as pairs and ask for preferences, you would find that some people like certain types of movies. In our context, that is like one team matching up particularly well against another, beyond what their \"rating\" would indicate. \n",
        "\n",
        "So far, we've worked from results -> rankings -> predictions. To evaluate this alternative approach, we will go from results -> predictions -> rankings. Each of these steps, results to predictions and predictions to rankings allow different approaches.\n",
        "\n",
        "To begin, let's convert our data into adjacency matricies. I'm doing one piece of normalization on scores, where I'm recording the score as a fraction of all points scored in a given game. So a score of 13-10 is recorded as 13/23 = .56 for the winner."
      ]
    },
    {
      "metadata": {
        "id": "LVgz-lLDDAYO",
        "colab_type": "code",
        "outputId": "edba151a-c10f-43f2-974e-d454e7cdb130",
        "colab": {
          "base_uri": "https://localhost:8080/",
          "height": 54
        }
      },
      "cell_type": "code",
      "source": [
        "def games_to_adjacency(games):\n",
        "  win_loss = defaultdict(lambda: defaultdict(list))\n",
        "  normalized_scores = defaultdict(lambda: defaultdict(list))\n",
        "  for game in games:\n",
        "    try: \n",
        "      team_1_score = int(game['Team 1 Score'])\n",
        "      team_2_score = int(game['Team 2 Score'])\n",
        "      normalized_score = team_1_score / (team_1_score + team_2_score) - .5\n",
        "      normalized_scores[game['Team 1 ID']][game['Team 2 ID']].append(normalized_score)\n",
        "      normalized_scores[game['Team 2 ID']][game['Team 1 ID']].append(-1 * normalized_score)\n",
        "     \n",
        "      if (team_1_score >= team_2_score):\n",
        "        winner = game['Team 1 ID']\n",
        "        loser = game['Team 2 ID']\n",
        "      else:\n",
        "        winner = game['Team 2 ID']\n",
        "        loser = game['Team 1 ID']\n",
        "\n",
        "      win_loss[winner][loser].append(1)\n",
        "      win_loss[loser][winner].append(-1)\n",
        "\n",
        "    except ValueError as e:\n",
        "      # Throw out L/W/F... no defined way of handling them\n",
        "      pass\n",
        "  return win_loss, normalized_scores\n",
        "    \n",
        "w_l, n_s = games_to_adjacency(games)\n",
        "print(w_l['19693'])"
      ],
      "execution_count": 19,
      "outputs": [
        {
          "output_type": "stream",
          "text": [
            "defaultdict(<class 'list'>, {'19431': [-1], '19847': [-1, -1], '19804': [1], '20262': [1], '19287': [1], '19271': [1], '19728': [1], '19614': [1], '19898': [-1], '19466': [1], '19260': [1, 1], '19505': [1], '19930': [1], '19762': [1], '19753': [1], '20355': [-1], '19819': [1]})\n"
          ],
          "name": "stdout"
        }
      ]
    },
    {
      "metadata": {
        "id": "A7ncVj0K2Tpf",
        "colab_type": "code",
        "outputId": "6f9d3cf8-376a-4e5b-aa3c-58f544956547",
        "colab": {
          "base_uri": "https://localhost:8080/",
          "height": 51
        }
      },
      "cell_type": "code",
      "source": [
        "c = 0\n",
        "for team_a in w_l:\n",
        "  for team_b in w_l[team_a]:\n",
        "    if abs(sum(w_l[team_a][team_b]))  < len(w_l[team_a][team_b]) :\n",
        "      c += 1\n",
        "      \n",
        "print(c)\n",
        "print(c/2/len(games))\n",
        "    "
      ],
      "execution_count": 20,
      "outputs": [
        {
          "output_type": "stream",
          "text": [
            "152\n",
            "0.028127313101406367\n"
          ],
          "name": "stdout"
        }
      ]
    },
    {
      "metadata": {
        "id": "1x532g9KHWw-",
        "colab_type": "text"
      },
      "cell_type": "markdown",
      "source": [
        "Now we have two sparse matricies. To make predictions, we will use as input the records of two teams, and as output a probability that the first team wins. "
      ]
    },
    {
      "metadata": {
        "id": "P6W1O5YKJmx1",
        "colab_type": "code",
        "colab": {}
      },
      "cell_type": "code",
      "source": [
        "from sklearn.feature_extraction import DictVectorizer\n",
        "from sklearn.model_selection import cross_val_score\n",
        "from sklearn.decomposition import TruncatedSVD\n",
        "from sklearn.datasets import dump_svmlight_file\n",
        "\n",
        "\n",
        "class SciKitModel:\n",
        "  def __init__(self, clf):\n",
        "    self.clf = clf\n",
        "    \n",
        "  @staticmethod\n",
        "  def prepare_records_concatenate(records):\n",
        "    training_X = []\n",
        "    training_y = []\n",
        "    #Generate training data by choosing two teams that have played together, removing a result to treat as label and concatenating team records\n",
        "    for team_a in records:\n",
        "      a_record = {\"a_\" + i: sum(records[team_a][i])/len(records[team_a][i]) for i in records[team_a]}\n",
        "      for team_b in records[team_a]:\n",
        "        assert len(records[team_a][team_b]) == len(records[team_b][team_a])\n",
        "        assert sum(records[team_a][team_b]) == -1 * sum(records[team_b][team_a])\n",
        "        b_record = {\"b_\" + i: sum(records[team_b][i])/len(records[team_b][i]) for i in records[team_b]}\n",
        "        \n",
        "        #Now mask a game\n",
        "        for game_i in range(len(records[team_a][team_b])):\n",
        "          masked = [records[team_a][team_b][x] for x in range(len(records[team_a][team_b])) if x != game_i]\n",
        "          masked_average = 0\n",
        "          if masked != []:\n",
        "            masked_average = sum(masked)/len(masked)\n",
        "          input_vector = {**a_record, **b_record}\n",
        "          input_vector[\"a_\" + team_b] = masked_average\n",
        "          input_vector[\"b_\" + team_a] = -1 * masked_average\n",
        "          input_vector[\"a_len\"] = sum([len(records[team_a][i]) for i in records[team_a]]) - 1\n",
        "          input_vector[\"b_len\"] = sum([len(records[team_b][i]) for i in records[team_b]]) - 1\n",
        "          training_X.append(input_vector)\n",
        "          training_y.append(records[team_a][team_b][game_i] > 0)\n",
        "    return training_X, training_y\n",
        "  \n",
        "  \n",
        "  @staticmethod\n",
        "  def prepare_records_difference(records):\n",
        "    training_X = []\n",
        "    training_y = []\n",
        "    #Generate training data by choosing two teams that have played together, removing a result to treat as label and concatenating team records\n",
        "    for team_a in records:\n",
        "      a_record = {i: sum(records[team_a][i])/len(records[team_a][i]) for i in records[team_a]}\n",
        "      for team_b in records[team_a]:\n",
        "        assert len(records[team_a][team_b]) == len(records[team_b][team_a])\n",
        "        assert sum(records[team_a][team_b]) == -1 * sum(records[team_b][team_a])\n",
        "        b_record = {i: sum(records[team_b][i])/len(records[team_b][i]) for i in records[team_b]}\n",
        "        \n",
        "        #Now mask a game\n",
        "        for game_i in range(len(records[team_a][team_b])):\n",
        "          masked = [records[team_a][team_b][x] for x in range(len(records[team_a][team_b])) if x != game_i]\n",
        "          masked_average = 0\n",
        "          if masked != []:\n",
        "            masked_average = sum(masked)/len(masked)\n",
        "          input_vector = {i: a_record.get(i, 0) - b_record.get(i, 0) for i in (set(a_record.keys()) | set(b_record.keys()))}\n",
        "          input_vector[team_b] = 2 * masked_average\n",
        "          input_vector[team_a] = -2 * masked_average\n",
        "          training_X.append(input_vector)\n",
        "          training_y.append(records[team_a][team_b][game_i] > 0)\n",
        "    return training_X, training_y\n",
        "  \n",
        "  \n",
        "  \n",
        "  \n",
        "  @staticmethod\n",
        "  def display(records):\n",
        "    training_X, training_y = SciKitModel.prepare_records_difference(records)\n",
        "    print(len(training_X))\n",
        "    print(training_X[0])\n",
        "    print(training_y[0])\n",
        "    feature_extractor = DictVectorizer()\n",
        "    X = feature_extractor.fit_transform(training_X)\n",
        "    print(X.shape)\n",
        "    reduced_X = TruncatedSVD(n_components = 10).fit_transform(X)\n",
        "    \n",
        "    plt.scatter(reduced_X[:, 0], reduced_X[:, 1], c=training_y,\n",
        "           cmap=plt.cm.Set1, edgecolor='k', s=40)\n",
        "  \n",
        "  def train(self, records):\n",
        "    training_X, training_y = SciKitModel.prepare_records_difference(records)\n",
        "    \n",
        "    #Average over values in lists when teams have multiple matchups (whether this is score or win/loss label)\n",
        "    self.feature_extractor = DictVectorizer()\n",
        "    X = self.feature_extractor.fit_transform(training_X)\n",
        "    return self.clf.fit(X, training_y)\n",
        "  \n",
        "  \n",
        "  def evaluate(self, records):\n",
        "    training_X, training_y = SciKitModel.prepare_records_difference(records)\n",
        "    \n",
        "    #Average over values in lists when teams have multiple matchups (whether this is score or win/loss label)\n",
        "    feature_extractor = DictVectorizer()\n",
        "    X = feature_extractor.fit_transform(training_X)\n",
        "    scores = cross_val_score(self.clf, X, training_y, cv=10, verbose=1)\n",
        "    print(\"Accuracy: %0.2f (+/- %0.2f)\" % (scores.mean(), scores.std() * 2))\n",
        "\n",
        "\n",
        "    \n",
        "    "
      ],
      "execution_count": 0,
      "outputs": []
    },
    {
      "metadata": {
        "id": "M8nXI1F-pwW-",
        "colab_type": "code",
        "colab": {
          "base_uri": "https://localhost:8080/",
          "height": 476
        },
        "outputId": "7461f78c-d3a7-456e-c5df-e1815cc9dd94"
      },
      "cell_type": "code",
      "source": [
        "SciKitModel.display(w_l)\n",
        "print(\"Evaluating logistic regression\")\n",
        "SciKitModel(linear_model.LogisticRegression(solver='lbfgs')).evaluate(w_l)\n",
        "SciKitModel(linear_model.LogisticRegression(solver='lbfgs')).evaluate(n_s)\n"
      ],
      "execution_count": 22,
      "outputs": [
        {
          "output_type": "stream",
          "text": [
            "5404\n",
            "{'19287': -1.0, '20419': 1.0, '19509': 0.0, '19861': -1.0, '19842': -1.0, '19915': 1.0, '20143': 1.0, '20063': -1.0, '19724': -1.0, '19243': 1.0, '19584': 0.0, '20098': -1.0, '19757': 2.0, '20323': -1.0, '19755': 1.0, '20522': 1.0, '19779': 1.0, '20086': 0, '19780': 1.0, '20157': 0, '20072': 1.0, '19875': -1.0, '19301': 1.0, '19753': -1.0, '19893': 1.0, '19714': -1.0, '19825': -1.0, '20059': -1.0, '19452': -1.0, '19586': -1.0, '19519': 1.0}\n",
            "True\n",
            "(5404, 428)\n",
            "Evaluating logistic regression\n"
          ],
          "name": "stdout"
        },
        {
          "output_type": "stream",
          "text": [
            "[Parallel(n_jobs=1)]: Using backend SequentialBackend with 1 concurrent workers.\n",
            "[Parallel(n_jobs=1)]: Done  10 out of  10 | elapsed:    1.2s finished\n"
          ],
          "name": "stderr"
        },
        {
          "output_type": "stream",
          "text": [
            "Accuracy: 0.64 (+/- 0.04)\n"
          ],
          "name": "stdout"
        },
        {
          "output_type": "stream",
          "text": [
            "[Parallel(n_jobs=1)]: Using backend SequentialBackend with 1 concurrent workers.\n",
            "[Parallel(n_jobs=1)]: Done  10 out of  10 | elapsed:    0.5s finished\n"
          ],
          "name": "stderr"
        },
        {
          "output_type": "stream",
          "text": [
            "Accuracy: 0.66 (+/- 0.06)\n"
          ],
          "name": "stdout"
        },
        {
          "output_type": "display_data",
          "data": {
            "image/png": "[encoded data removed]",
            "text/plain": [
              "<Figure size 432x288 with 1 Axes>"
            ]
          },
          "metadata": {
            "tags": []
          }
        }
      ]
    },
    {
      "metadata": {
        "id": "mXisM6Pnas2f",
        "colab_type": "text"
      },
      "cell_type": "markdown",
      "source": [
        "We wouldn't expect logistic regression to be very good here because of high dimensionality. Let's look at a few others."
      ]
    },
    {
      "metadata": {
        "id": "t-ZVf6IqarDt",
        "colab_type": "code",
        "outputId": "1d4742f0-761a-42cd-ccc4-4f2161466213",
        "colab": {
          "base_uri": "https://localhost:8080/",
          "height": 51
        }
      },
      "cell_type": "code",
      "source": [
        "from sklearn import svm\n",
        "from sklearn.pipeline import make_pipeline\n",
        "from sklearn.preprocessing import Normalizer\n",
        "print(\"Evaluating svm classification\")\n",
        "pipeline = make_pipeline(Normalizer(copy=False), svm.SVC(gamma='scale'))\n",
        "SciKitModel(pipeline).evaluate(w_l)\n",
        "SciKitModel(pipeline).evaluate(n_s)\n",
        "\n"
      ],
      "execution_count": 0,
      "outputs": [
        {
          "output_type": "stream",
          "text": [
            "Evaluating svm classification\n"
          ],
          "name": "stdout"
        },
        {
          "output_type": "stream",
          "text": [
            "[Parallel(n_jobs=1)]: Using backend SequentialBackend with 1 concurrent workers.\n"
          ],
          "name": "stderr"
        }
      ]
    },
    {
      "metadata": {
        "id": "d1UIq9i3arqn",
        "colab_type": "code",
        "colab": {}
      },
      "cell_type": "code",
      "source": [
        "\n",
        "pipeline = make_pipeline(TruncatedSVD(10), Normalizer(copy=False), svm.SVC(gamma='scale'))\n",
        "print(\"Evaluating svm + svd classification\")\n",
        "SciKitModel(pipeline).evaluate(w_l)\n",
        "SciKitModel(pipeline).evaluate(n_s)"
      ],
      "execution_count": 0,
      "outputs": []
    },
    {
      "metadata": {
        "id": "c5i6V_IzcbGp",
        "colab_type": "code",
        "colab": {}
      },
      "cell_type": "code",
      "source": [
        ""
      ],
      "execution_count": 0,
      "outputs": []
    },
    {
      "metadata": {
        "id": "byRGKLL4dabf",
        "colab_type": "code",
        "colab": {}
      },
      "cell_type": "code",
      "source": [
        "from sklearn.neural_network import MLPClassifier\n",
        "from sklearn.preprocessing import StandardScaler  \n",
        "\n",
        "pipeline = make_pipeline(MLPClassifier(solver='lbfgs', activation='tanh', hidden_layer_sizes=(100,100,100), random_state=1))\n",
        "print(\"Evaluating dnn classification\")\n",
        "SciKitModel(pipeline).evaluate(w_l)\n",
        "SciKitModel(pipeline).evaluate(n_s)"
      ],
      "execution_count": 0,
      "outputs": []
    },
    {
      "metadata": {
        "id": "YYaww08l75UY",
        "colab_type": "code",
        "colab": {}
      },
      "cell_type": "code",
      "source": [
        "pipeline = make_pipeline(MLPClassifier(solver='lbfgs', hidden_layer_sizes=(20,20,20), random_state=1))\n",
        "print(\"Evaluating dnn classification\")\n",
        "SciKitModel(pipeline).evaluate(w_l)\n",
        "SciKitModel(pipeline).evaluate(n_s)"
      ],
      "execution_count": 0,
      "outputs": []
    },
    {
      "metadata": {
        "id": "AERnxuGt8Jhe",
        "colab_type": "code",
        "colab": {}
      },
      "cell_type": "code",
      "source": [
        ""
      ],
      "execution_count": 0,
      "outputs": []
    },
    {
      "metadata": {
        "id": "cOHMRF53zGJd",
        "colab_type": "code",
        "colab": {}
      },
      "cell_type": "code",
      "source": [
        "from sklearn.neural_network import MLPClassifier\n",
        "from sklearn.preprocessing import StandardScaler\n",
        "from sklearn.model_selection import GridSearchCV\n",
        "\n",
        "parameters = {'solver': ['lbfgs'],  'alpha': 10.0 ** -np.arange(1, 10), 'hidden_layer_sizes':np.arange(10, 15), 'random_state':[0,1,2,3,4,5,6,7,8,9]}\n",
        "clf = GridSearchCV(MLPClassifier(), parameters, n_jobs=-1)\n",
        "pipeline = make_pipeline(StandardScaler(with_mean=False), GridSearchCV(MLPClassifier(), parameters, n_jobs=-1))\n",
        "print(\"Evaluating dnn classification\")\n",
        "SciKitModel(pipeline).evaluate(w_l)\n",
        "SciKitModel(pipeline).evaluate(n_s)"
      ],
      "execution_count": 0,
      "outputs": []
    },
    {
      "metadata": {
        "id": "s-Z-d6-QeCcq",
        "colab_type": "code",
        "colab": {}
      },
      "cell_type": "code",
      "source": [
        "from sklearn.ensemble import RandomForestClassifier\n",
        "pipeline = make_pipeline(RandomForestClassifier(n_estimators=100, max_depth=20,random_state=0))\n",
        "                         \n",
        "print(\"Evaluating random forest classification\")\n",
        "SciKitModel(pipeline).evaluate(w_l)\n",
        "SciKitModel(pipeline).evaluate(n_s)\n"
      ],
      "execution_count": 0,
      "outputs": []
    },
    {
      "metadata": {
        "id": "iS1hHomEjl6Q",
        "colab_type": "code",
        "colab": {}
      },
      "cell_type": "code",
      "source": [
        "from sklearn.naive_bayes import MultinomialNB\n",
        "pipeline = make_pipeline(MultinomialNB())\n",
        "                         \n",
        "print(\"Evaluating naive bayes classification\")\n",
        "SciKitModel(pipeline).evaluate(w_l)\n",
        "SciKitModel(pipeline).evaluate(n_s)"
      ],
      "execution_count": 0,
      "outputs": []
    },
    {
      "metadata": {
        "id": "0NjjnKrg08fh",
        "colab_type": "code",
        "colab": {}
      },
      "cell_type": "code",
      "source": [
        "! pip install tensorflow_ranking\n",
        "import tensorflow as tf\n",
        "import tensorflow_ranking as tfr\n",
        "\n",
        "tf.enable_eager_execution()\n",
        "tf.executing_eagerly()\n",
        "\n",
        "\n"
      ],
      "execution_count": 0,
      "outputs": []
    },
    {
      "metadata": {
        "id": "NPIumlcoYDLF",
        "colab_type": "code",
        "colab": {}
      },
      "cell_type": "code",
      "source": [
        "def calc_win_rates(records):\n",
        "  win_rates = {}\n",
        "  \n",
        "  for team_a in records:\n",
        "    a_record = []\n",
        "    for i in records[team_a]:\n",
        "      for v in records[team_a][i]:\n",
        "         a_record.append(v)\n",
        "    if len(a_record) > 0:\n",
        "      win_rates[team_a] = sum(a_record)/len(a_record)\n",
        "    else:\n",
        "      win_rates[team_a] = 0\n",
        "  return win_rates\n",
        "\n",
        "def to_tensor_test(records, test):\n",
        "  win_rates = calc_win_rates(records)\n",
        "  id_map = {i:str(x+1) for x, i in enumerate(records.keys())}\n",
        "  def inner_generator():\n",
        "    #Generate training data by choosing two teams that have played together, removing a result to treat as label and concatenating team records\n",
        "    for team_a in test:\n",
        "\n",
        "      for team_b in test[team_a]:\n",
        "        if team_b > team_a:\n",
        "          for game_i in range(len(test[team_a][team_b])):\n",
        "\n",
        "            result = 1 if test[team_a][team_b][game_i] > 0 else 0\n",
        "            a_win_rate = 0\n",
        "            b_win_rate = 0\n",
        "\n",
        "            a_win_rate = win_rates[team_a]\n",
        "            b_win_rate = win_rates[team_b]\n",
        "\n",
        "            output = {}\n",
        "            for k in range(len(records.keys())):\n",
        "              output[str(k+1)] = np.zeros([2, 1], dtype=np.float32)\n",
        "              output[str(k+1)][0,0] = a_win_rate\n",
        "              output[str(k+1)][1,0] = b_win_rate\n",
        "\n",
        "\n",
        "            for i in records[team_a]:\n",
        "              output[id_map[i]][0,0] = sum(records[team_a][i])/len(records[team_a][i])\n",
        "            for i in records[team_b]:\n",
        "              output[id_map[i]][1] = sum(records[team_b][i])/len(records[team_b][i])\n",
        "            yield output, [result, 1 - result]\n",
        "  return inner_generator   \n",
        "def to_tensor(records, train=None):\n",
        "  win_rates = None\n",
        "  id_map = {i:str(x+1) for x, i in enumerate(records.keys())}\n",
        "  def inner_generator():\n",
        "    #Generate training data by choosing two teams that have played together, removing a result to treat as label and concatenating team records\n",
        "    for team_a in records:\n",
        "\n",
        "      for team_b in records[team_a]:\n",
        "        if team_b > team_a:\n",
        "          assert len(records[team_a][team_b]) == len(records[team_b][team_a])\n",
        "          assert sum(records[team_a][team_b]) == -1 * sum(records[team_b][team_a])\n",
        "\n",
        "          #Now mask a game\n",
        "          for game_i in range(len(records[team_a][team_b])):\n",
        "            masked = [records[team_a][team_b][x] for x in range(len(records[team_a][team_b])) if x != game_i]\n",
        "            masked_average = 0\n",
        "            if masked != []:\n",
        "              masked_average = sum(masked)/len(masked)\n",
        "            result = 1 if records[team_a][team_b][game_i] > 0 else 0\n",
        "            a_win_rate = 0\n",
        "            b_win_rate = 0\n",
        "\n",
        "            a_record = []\n",
        "            for i in records[team_a]:\n",
        "              for j, v in enumerate(records[team_a][i]):\n",
        "                if not(i == team_b and j == game_i):\n",
        "                  a_record.append(v)\n",
        "\n",
        "            b_record = []\n",
        "            for i in records[team_b]:\n",
        "              for j, v in enumerate(records[team_b][i]):\n",
        "                if not (i == team_a and j == game_i):\n",
        "                  b_record.append(v)\n",
        "            if len(a_record) > 0:\n",
        "\n",
        "              a_win_rate = sum(a_record)/len(a_record)\n",
        "            if len(b_record) > 0:\n",
        "\n",
        "              b_win_rate = sum(b_record)/len(b_record)\n",
        "\n",
        "            output = {}\n",
        "            for k in range(len(records.keys())):\n",
        "              output[str(k+1)] = np.zeros([2, 1], dtype=np.float32)\n",
        "              output[str(k+1)][0,0] = a_win_rate\n",
        "              output[str(k+1)][1,0] = b_win_rate\n",
        "\n",
        "\n",
        "            x = id_map[team_b]\n",
        "\n",
        "            for i in records[team_a]:\n",
        "              output[id_map[i]][0,0] = sum(records[team_a][i])/len(records[team_a][i])\n",
        "            output[id_map[team_b]][0,0] = masked_average\n",
        "            for i in records[team_b]:\n",
        "              output[id_map[i]][1] = sum(records[team_b][i])/len(records[team_b][i])\n",
        "            output[id_map[team_a]][1,0] = -1 * masked_average\n",
        "            yield output, [result, 1 - result]\n",
        " \n",
        "  return inner_generator\n",
        "\n",
        "def from_records(records):\n",
        "  train_dataset = tf.data.Dataset.from_generator(\n",
        "      to_tensor(records),\n",
        "      output_types=(\n",
        "          {str(k): tf.float32 for k in range(1,len(records.keys())+1)},\n",
        "          tf.float32\n",
        "      ),\n",
        "      output_shapes=(\n",
        "          {str(k): tf.TensorShape([2, 1])\n",
        "            for k in range(1,len(records.keys())+ 1)},\n",
        "          tf.TensorShape([2])\n",
        "      )\n",
        "  )\n",
        "\n",
        "  train_dataset = train_dataset.shuffle(1000).repeat().batch(32)\n",
        "  return train_dataset.make_one_shot_iterator().get_next()\n",
        "\n",
        "\n",
        "def from_records_test(records, test):\n",
        "  train_dataset = tf.data.Dataset.from_generator(\n",
        "      to_tensor_test(records, test),\n",
        "      output_types=(\n",
        "          {str(k): tf.float32 for k in range(1,len(records.keys())+1)},\n",
        "          tf.float32\n",
        "      ),\n",
        "      output_shapes=(\n",
        "          {str(k): tf.TensorShape([2, 1])\n",
        "            for k in range(1,len(records.keys())+ 1)},\n",
        "          tf.TensorShape([2])\n",
        "      )\n",
        "  )\n",
        "\n",
        "  train_dataset = train_dataset.shuffle(1000).repeat().batch(32)\n",
        "  return train_dataset.make_one_shot_iterator().get_next()\n",
        "\n"
      ],
      "execution_count": 0,
      "outputs": []
    },
    {
      "metadata": {
        "id": "zXYTXdLsCFp7",
        "colab_type": "code",
        "colab": {}
      },
      "cell_type": "code",
      "source": [
        "to_tensor(w_l_train)\n",
        "to_tensor_test(w_l_train, w_l_test)"
      ],
      "execution_count": 0,
      "outputs": []
    },
    {
      "metadata": {
        "id": "QzxKH18pyxEz",
        "colab_type": "code",
        "colab": {}
      },
      "cell_type": "code",
      "source": [
        "def example_feature_columns():\n",
        "  \"\"\"Returns the example feature columns.\"\"\"\n",
        "  feature_names = [\n",
        "      \"%d\" % (i + 1) for i in range(0, _NUM_FEATURES)\n",
        "  ]\n",
        "  return {\n",
        "      name: tf.feature_column.numeric_column(\n",
        "          name, shape=(1,), default_value=0.0) for name in feature_names\n",
        "  }\n",
        "\n",
        "def make_score_fn():\n",
        "  \"\"\"Returns a scoring function to build `EstimatorSpec`.\"\"\"\n",
        "\n",
        "  def _score_fn(context_features, group_features, mode, params, config):\n",
        "    \"\"\"Defines the network to score a documents.\"\"\"\n",
        "    del params\n",
        "    del config\n",
        "   \n",
        "  \n",
        "    # Define input layer.\n",
        "    example_input = [\n",
        "        tf.layers.flatten(group_features[name])\n",
        "        for name in sorted(example_feature_columns())\n",
        "    ]\n",
        "    input_layer = tf.concat(example_input, 1)\n",
        "\n",
        "    cur_layer = input_layer\n",
        "    for i, layer_width in enumerate(int(d) for d in _HIDDEN_LAYER_DIMS):\n",
        "      cur_layer = tf.layers.dense(\n",
        "          cur_layer,\n",
        "          units=layer_width,\n",
        "          activation=\"tanh\")\n",
        "      cur_layer = tf.layers.batch_normalization(cur_layer)\n",
        "      cur_layer = tf.nn.relu(cur_layer)\n",
        "\n",
        "    logits = tf.layers.dense(cur_layer, units=1)\n",
        "    return logits\n",
        "\n",
        "  return _score_fn"
      ],
      "execution_count": 0,
      "outputs": []
    },
    {
      "metadata": {
        "id": "1AMBTZQKy0YY",
        "colab_type": "code",
        "colab": {}
      },
      "cell_type": "code",
      "source": [
        "def eval_metric_fns():\n",
        "  \"\"\"Returns a dict from name to metric functions.\n",
        "\n",
        "  This can be customized as follows. Care must be taken when handling padded\n",
        "  lists.\n",
        "\n",
        "  def _auc(labels, predictions, features):\n",
        "    is_label_valid = tf_reshape(tf.greater_equal(labels, 0.), [-1, 1])\n",
        "    clean_labels = tf.boolean_mask(tf.reshape(labels, [-1, 1], is_label_valid)\n",
        "    clean_pred = tf.boolean_maks(tf.reshape(predictions, [-1, 1], is_label_valid)\n",
        "    return tf.metrics.auc(clean_labels, tf.sigmoid(clean_pred), ...)\n",
        "  metric_fns[\"auc\"] = _auc\n",
        "\n",
        "  Returns:\n",
        "    A dict mapping from metric name to a metric function with above signature.\n",
        "  \"\"\"\n",
        "  metric_fns = {}\n",
        "  metric_fns.update({\n",
        "      \"accuracy\" : tfr.metrics.make_ranking_metric_fn(\n",
        "          tfr.metrics.RankingMetricKey.ORDERED_PAIR_ACCURACY)\n",
        "  \n",
        "  })\n",
        "\n",
        "  return metric_fns"
      ],
      "execution_count": 0,
      "outputs": []
    },
    {
      "metadata": {
        "id": "9ySkQ3gFy28u",
        "colab_type": "code",
        "colab": {}
      },
      "cell_type": "code",
      "source": [
        "def get_estimator(hparams):\n",
        "  \"\"\"Create a ranking estimator.\n",
        "\n",
        "  Args:\n",
        "    hparams: (tf.contrib.training.HParams) a hyperparameters object.\n",
        "\n",
        "  Returns:\n",
        "    tf.learn `Estimator`.\n",
        "  \"\"\"\n",
        "  def _train_op_fn(loss):\n",
        "    \"\"\"Defines train op used in ranking head.\"\"\"\n",
        "    return tf.contrib.layers.optimize_loss(\n",
        "        loss=loss,\n",
        "        global_step=tf.train.get_global_step(),\n",
        "        learning_rate=hparams.learning_rate,\n",
        "        optimizer=\"Adagrad\")\n",
        "\n",
        "  ranking_head = tfr.head.create_ranking_head(\n",
        "      loss_fn=tfr.losses.make_loss_fn(\"softmax_loss\"),\n",
        "      eval_metric_fns=eval_metric_fns(),\n",
        "      train_op_fn=_train_op_fn)\n",
        "\n",
        "  return tf.estimator.Estimator(\n",
        "      model_fn=tfr.model.make_groupwise_ranking_fn(\n",
        "          group_score_fn=make_score_fn(),\n",
        "          group_size=1,\n",
        "          transform_fn=None,\n",
        "          ranking_head=ranking_head),\n",
        "      params=hparams)"
      ],
      "execution_count": 0,
      "outputs": []
    },
    {
      "metadata": {
        "id": "v6NjsayPy62Y",
        "colab_type": "code",
        "colab": {}
      },
      "cell_type": "code",
      "source": [
        "hparams = tf.contrib.training.HParams(learning_rate=0.05)\n",
        "ranker = get_estimator(hparams)\n"
      ],
      "execution_count": 0,
      "outputs": []
    },
    {
      "metadata": {
        "id": "sfu_A7Mp0aN7",
        "colab_type": "code",
        "colab": {}
      },
      "cell_type": "code",
      "source": [
        "p = .1\n",
        "def train_test_split(games):\n",
        "  random.shuffle(games)\n",
        "  test = games[:int(p * len(games))]\n",
        "  train = games[int(p * len(games)):]\n",
        "  return train,test\n",
        "\n",
        "train, test = train_test_split(games)\n",
        "w_l_train, n_s_train = games_to_adjacency(train)\n",
        "w_l_test, n_s_test = games_to_adjacency(test)\n",
        "\n",
        "for a in w_l:\n",
        "  if a not in w_l_train:\n",
        "    w_l_train[a] = []\n",
        "    n_s_train[a] = []\n",
        "  if a not in w_l_test:\n",
        "    w_l_test[a] = []\n",
        "    n_s_test[a] = []"
      ],
      "execution_count": 0,
      "outputs": []
    },
    {
      "metadata": {
        "id": "En9K4VPfy9Hb",
        "colab_type": "code",
        "colab": {}
      },
      "cell_type": "code",
      "source": [
        "\n",
        "\n",
        "\n",
        "_NUM_FEATURES = len(w_l_train.keys())\n",
        "_HIDDEN_LAYER_DIMS=[\"60\", \"5\"]\n",
        "hparams = tf.contrib.training.HParams(learning_rate=0.05)\n",
        "ranker = get_estimator(hparams)\n",
        "ranker.train(input_fn=lambda: from_records(n_s_train), steps=100)"
      ],
      "execution_count": 0,
      "outputs": []
    },
    {
      "metadata": {
        "id": "e4rgytJky_Z8",
        "colab_type": "code",
        "colab": {}
      },
      "cell_type": "code",
      "source": [
        "\n",
        "ranker.evaluate(input_fn=lambda: from_records_test(n_s_train, n_s_test), steps=100)"
      ],
      "execution_count": 0,
      "outputs": []
    },
    {
      "metadata": {
        "id": "AMCHB9WX1VR6",
        "colab_type": "code",
        "colab": {}
      },
      "cell_type": "code",
      "source": [
        "predictions = ranker.predict(input_fn=lambda: from_records(w_l))\n",
        "for p in predictions:\n",
        "  print(p)"
      ],
      "execution_count": 0,
      "outputs": []
    },
    {
      "metadata": {
        "id": "dUtHLXZ11rrh",
        "colab_type": "code",
        "colab": {}
      },
      "cell_type": "code",
      "source": [
        "print(list(predictions))"
      ],
      "execution_count": 0,
      "outputs": []
    }
  ]
}